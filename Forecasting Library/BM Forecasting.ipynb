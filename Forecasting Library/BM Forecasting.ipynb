{
 "cells": [
  {
   "cell_type": "markdown",
   "id": "e3591180",
   "metadata": {},
   "source": [
    "Models ordered as follows:\n",
    "\n",
    "Statistical Models:\n",
    "\n",
    "1.) LEAR |\n",
    "2.) ARIMA\n",
    "\n",
    "Machine Learning Models:\n",
    "\n",
    "3.) XGB  |  4.) RF |   5.) SVR  |  6.) KNN\n",
    "\n",
    "Deep Learning Models:\n",
    "\n",
    "7.) SH-DNN |\n",
    "8.) MH DNN"
   ]
  },
  {
   "cell_type": "markdown",
   "id": "b83be5e5",
   "metadata": {},
   "source": [
    " "
   ]
  },
  {
   "cell_type": "markdown",
   "id": "474f7cea",
   "metadata": {},
   "source": [
    "LEAR MODEL"
   ]
  },
  {
   "cell_type": "code",
   "execution_count": 1,
   "id": "7d728082",
   "metadata": {},
   "outputs": [
    {
     "name": "stdout",
     "output_type": "stream",
     "text": [
      "train_start_time: 2020-05-02 00:00:00, train_end_time: 2020-06-01 00:00:00, test_start_time: 2020-06-01 08:00:00, test_end_time: 2020-06-01 08:30:00\n",
      "train_start_time: 2020-05-02 08:00:00, train_end_time: 2020-06-01 08:00:00, test_start_time: 2020-06-01 16:00:00, test_end_time: 2020-06-01 16:30:00\n",
      "train_start_time: 2020-05-02 16:00:00, train_end_time: 2020-06-01 16:00:00, test_start_time: 2020-06-02 00:00:00, test_end_time: 2020-06-02 00:30:00\n",
      "Mean Absolute Error (MAE): 32.58092289793301\n",
      "Root Mean Squared Error (RMSE): 46.01352387445139\n",
      "Symmetric Mean Absolute Percentage Error (sMAPE): 69.84173904570979\n"
     ]
    }
   ],
   "source": [
    "# Import necessary functions and objects from Modelling_Functions_SH_DNN module\n",
    "from sklearn.multioutput import MultiOutputRegressor\n",
    "from sklearn_quantile import RandomForestQuantileRegressor\n",
    "from sklearn.svm import SVR\n",
    "from sklearn.linear_model import Lasso\n",
    "from xgboost import XGBRegressor\n",
    "import warnings\n",
    "import pandas as pd\n",
    "\n",
    "from Modelling_Functions_LEAR import process_data_and_get_parameters_LEAR, calculate_metrics_LEAR, load_and_preprocess_data_LEAR, generate_train_and_test_dataframes_LEAR, fit_multitarget_model_LEAR, rolling_walk_forward_validation_LEAR\n",
    "warnings.filterwarnings(\"ignore\")\n",
    "\n",
    "# Process data and extract parameters from the dataset\n",
    "Y, alpha, dat = process_data_and_get_parameters_LEAR(\"/home/ciaran/Documents/BM_data.csv\")\n",
    "\n",
    "# Perform rolling walk forward validation using the specified model and data\n",
    "# Parameters:\n",
    "#   - model: MultiOutputRegressor with Lasso regression as the base estimator, with a maximum number of iterations\n",
    "#   - data: the dataset used for validation\n",
    "#   - start_time: start time for the validation period\n",
    "#   - end_time: end time for the validation period\n",
    "#   - targets: list of column names to be used as targets for prediction\n",
    "#   - training_days: number of days used for training, negative value indicates using data prior to start_time\n",
    "#   - path: path to save the validation results\n",
    "rolling_walk_forward_validation_LEAR(model=MultiOutputRegressor(Lasso(max_iter=2500, alpha=alpha)),\n",
    "                                data=dat, start_time='6/1/2020 00:00', end_time='6/2/2020  00:00',       \n",
    "                                targets=dat.iloc[:, 0:16].columns.values.tolist(), training_days=-30,\n",
    "                                path=\"/home/ciaran/Documents/LEAR_30_days_test\")\n",
    "# Calculate metrics based on the validation results\n",
    "# Parameter:\n",
    "#   - path: path to the validation result file\n",
    "calculate_metrics_LEAR(\"/home/ciaran/Documents/LEAR_30_days_test.csv\")\n",
    "warnings.resetwarnings()"
   ]
  },
  {
   "cell_type": "markdown",
   "id": "6d0eeba4",
   "metadata": {},
   "source": [
    " "
   ]
  },
  {
   "cell_type": "markdown",
   "id": "13f27a11",
   "metadata": {},
   "source": [
    "ARIMA"
   ]
  },
  {
   "cell_type": "code",
   "execution_count": 2,
   "id": "60380405",
   "metadata": {},
   "outputs": [
    {
     "name": "stdout",
     "output_type": "stream",
     "text": [
      "Error Metrics:\n",
      "        RMSE        MAE      sMAPE\n",
      "0  45.401199  38.507832  74.308292\n"
     ]
    }
   ],
   "source": [
    "from Modelling_Functions_ARIMA import calculate_and_print_errors_ARIMA, load_data_ARIMA, ARIMAModel, rolling_walk_forward_validation_ARIMA\n",
    "# Suppress all warnings\n",
    "with warnings.catch_warnings():\n",
    "    warnings.simplefilter(\"ignore\")\n",
    "\n",
    "    # Example usage:\n",
    "    file_path = \"/home/ciaran/Documents/BM_data.csv\"\n",
    "    dat, targets = load_data_ARIMA(file_path)\n",
    "\n",
    "    # Call the rolling walk-forward validation function with ARIMA\n",
    "    rolling_walk_forward_validation_ARIMA(model_fn=ARIMAModel,\n",
    "                                          data=dat, start_time='6/1/2020 00:00', end_time='6/2/2020  00:00',  \n",
    "                                          targets=targets, training_days=30,\n",
    "                                          path=\"/home/ciaran/Documents/BM_ARIMA_30_days_test\")\n",
    "    # Error Metrics:\n",
    "    file_path = \"/home/ciaran/Documents/BM_ARIMA_30_days_test.csv\"\n",
    "    calculate_and_print_errors_ARIMA(file_path)"
   ]
  },
  {
   "cell_type": "markdown",
   "id": "51a933bd",
   "metadata": {},
   "source": [
    " "
   ]
  },
  {
   "cell_type": "markdown",
   "id": "07b64190",
   "metadata": {},
   "source": [
    "Extreme Gradient Boosting"
   ]
  },
  {
   "cell_type": "code",
   "execution_count": 3,
   "id": "56f4cf77",
   "metadata": {},
   "outputs": [
    {
     "name": "stdout",
     "output_type": "stream",
     "text": [
      "train_start_time: 2020-05-02 00:00:00, train_end_time: 2020-06-01 00:00:00, test_start_time: 2020-06-01 08:00:00, test_end_time: 2020-06-01 08:30:00\n",
      "train_start_time: 2020-05-02 08:00:00, train_end_time: 2020-06-01 08:00:00, test_start_time: 2020-06-01 16:00:00, test_end_time: 2020-06-01 16:30:00\n",
      "train_start_time: 2020-05-02 16:00:00, train_end_time: 2020-06-01 16:00:00, test_start_time: 2020-06-02 00:00:00, test_end_time: 2020-06-02 00:30:00\n",
      "Mean Absolute Error (MAE): 32.00906804482142\n",
      "Root Mean Squared Error (RMSE): 46.908511360888625\n",
      "Symmetric Mean Absolute Percentage Error (sMAPE): 64.36775789703358\n"
     ]
    },
    {
     "data": {
      "text/plain": [
       "(32.00906804482142, 46.908511360888625, 64.36775789703358)"
      ]
     },
     "execution_count": 3,
     "metadata": {},
     "output_type": "execute_result"
    }
   ],
   "source": [
    "# Example usage XGB, RF, and SVR:\n",
    "from Modelling_Functions_SVR_XGB_RF import calculate_metrics_SVR_XGB_RF, rolling_walk_forward_validation_SVR_XGB_RF, fit_multitarget_model_SVR_XGB_RF, generate_train_and_test_dataframes_SVR_XGB_RF, calculate_metrics_SVR_XGB_RF, load_data_SVR_XGB_RF\n",
    "warnings.filterwarnings(\"ignore\", message=\"np.find_common_type is deprecated*\")\n",
    "\n",
    "# Load data from CSV file\n",
    "file_path = \"/home/ciaran/Documents/BM_data.csv\"\n",
    "dat = load_data_SVR_XGB_RF(file_path)\n",
    "\n",
    "# Perform rolling walk-forward validation using XGB model\n",
    "rolling_walk_forward_validation_SVR_XGB_RF(model = MultiOutputRegressor(XGBRegressor(learning_rate= 0.05, max_depth= 5, min_child_weight= 4, n_estimators= 200, subsample= 0.9)),\n",
    "                                data=dat, start_time='06/1/2020 00:00',end_time='06/2/2020  00:00',\n",
    "                                targets=dat.iloc[:,0:16].columns.values.tolist(),training_days=-30, path=\"/home/ciaran/Documents/XGB_30_days_test\")\n",
    "\n",
    "# Calculate metrics after rolling walk-forward validation\n",
    "calculate_metrics_SVR_XGB_RF(\"/home/ciaran/Documents/XGB_30_days_test.csv\")"
   ]
  },
  {
   "cell_type": "markdown",
   "id": "3776c0ef",
   "metadata": {},
   "source": [
    "Random Forest"
   ]
  },
  {
   "cell_type": "code",
   "execution_count": 4,
   "id": "74bcee48",
   "metadata": {},
   "outputs": [
    {
     "name": "stdout",
     "output_type": "stream",
     "text": [
      "train_start_time: 2020-05-02 00:00:00, train_end_time: 2020-06-01 00:00:00, test_start_time: 2020-06-01 08:00:00, test_end_time: 2020-06-01 08:30:00\n",
      "train_start_time: 2020-05-02 08:00:00, train_end_time: 2020-06-01 08:00:00, test_start_time: 2020-06-01 16:00:00, test_end_time: 2020-06-01 16:30:00\n",
      "train_start_time: 2020-05-02 16:00:00, train_end_time: 2020-06-01 16:00:00, test_start_time: 2020-06-02 00:00:00, test_end_time: 2020-06-02 00:30:00\n",
      "Mean Absolute Error (MAE): 32.18144364992778\n",
      "Root Mean Squared Error (RMSE): 52.37578276003171\n",
      "Symmetric Mean Absolute Percentage Error (sMAPE): 68.02593751935004\n"
     ]
    }
   ],
   "source": [
    "# Perform rolling walk-forward validation using RandomForestQuantileRegressor model\n",
    "rolling_walk_forward_validation_SVR_XGB_RF(model = MultiOutputRegressor(RandomForestQuantileRegressor(q=[0.50], max_depth=80, n_estimators=300, min_samples_leaf=2, min_samples_split=2)),\n",
    "                                data=dat, start_time='06/1/2020 00:00',end_time='06/2/2020  00:00',\n",
    "                                targets=dat.iloc[:,0:16].columns.values.tolist(),training_days=-30, path=\"/home/ciaran/Documents/rf_30_days_test\")\n",
    "\n",
    "# Calculate metrics after rolling walk-forward validation\n",
    "calculate_metrics_SVR_XGB_RF(\"/home/ciaran/Documents/rf_30_days_test.csv\")\n",
    "warnings.resetwarnings()"
   ]
  },
  {
   "cell_type": "markdown",
   "id": "beefdad2",
   "metadata": {},
   "source": [
    "Support Vector Machines"
   ]
  },
  {
   "cell_type": "code",
   "execution_count": 5,
   "id": "58672798",
   "metadata": {},
   "outputs": [
    {
     "name": "stdout",
     "output_type": "stream",
     "text": [
      "train_start_time: 2020-05-02 00:00:00, train_end_time: 2020-06-01 00:00:00, test_start_time: 2020-06-01 08:00:00, test_end_time: 2020-06-01 08:30:00\n",
      "train_start_time: 2020-05-02 08:00:00, train_end_time: 2020-06-01 08:00:00, test_start_time: 2020-06-01 16:00:00, test_end_time: 2020-06-01 16:30:00\n",
      "train_start_time: 2020-05-02 16:00:00, train_end_time: 2020-06-01 16:00:00, test_start_time: 2020-06-02 00:00:00, test_end_time: 2020-06-02 00:30:00\n",
      "Mean Absolute Error (MAE): 31.122329776305634\n",
      "Root Mean Squared Error (RMSE): 51.76535586174112\n",
      "Symmetric Mean Absolute Percentage Error (sMAPE): 66.19331399182443\n"
     ]
    },
    {
     "data": {
      "text/plain": [
       "(31.122329776305634, 51.76535586174112, 66.19331399182443)"
      ]
     },
     "execution_count": 5,
     "metadata": {},
     "output_type": "execute_result"
    }
   ],
   "source": [
    "#SVR Example\n",
    "# Perform rolling walk-forward validation using SVR model\n",
    "rolling_walk_forward_validation_SVR_XGB_RF(model = MultiOutputRegressor(SVR(kernel='rbf', C=10, epsilon=0.1)),\n",
    "                                data=dat, start_time='06/1/2020 00:00',end_time='06/2/2020  00:00',\n",
    "                                targets=dat.iloc[:,0:16].columns.values.tolist(),training_days=-30, path=\"/home/ciaran/Documents/SVR_30_days_test\")\n",
    "\n",
    "# Calculate metrics after rolling walk-forward validation\n",
    "calculate_metrics_SVR_XGB_RF(\"/home/ciaran/Documents/SVR_30_days_test.csv\")"
   ]
  },
  {
   "cell_type": "markdown",
   "id": "ab3e8569",
   "metadata": {},
   "source": [
    " "
   ]
  },
  {
   "cell_type": "markdown",
   "id": "70ed10fe",
   "metadata": {},
   "source": [
    "Single-Headed Deep Neural Network"
   ]
  },
  {
   "cell_type": "code",
   "execution_count": 7,
   "id": "ebc10d62",
   "metadata": {},
   "outputs": [
    {
     "name": "stdout",
     "output_type": "stream",
     "text": [
      "train_start_time: 2020-05-02 00:00:00, train_end_time: 2020-06-01 00:00:00, test_start_time: 2020-06-01 08:00:00, test_end_time: 2020-06-01 08:30:00\n",
      "1/1 - 0s - 66ms/epoch - 66ms/step\n",
      "train_start_time: 2020-05-02 08:00:00, train_end_time: 2020-06-01 08:00:00, test_start_time: 2020-06-01 16:00:00, test_end_time: 2020-06-01 16:30:00\n",
      "1/1 - 0s - 56ms/epoch - 56ms/step\n",
      "train_start_time: 2020-05-02 16:00:00, train_end_time: 2020-06-01 16:00:00, test_start_time: 2020-06-02 00:00:00, test_end_time: 2020-06-02 00:30:00\n",
      "1/1 - 0s - 58ms/epoch - 58ms/step\n",
      "Mean Absolute Error (MAE): 30.89605846246084\n",
      "Root Mean Squared Error (RMSE): 52.03335741315174\n",
      "Symmetric Mean Absolute Percentage Error (sMAPE): 64.96808006922026\n"
     ]
    },
    {
     "data": {
      "text/plain": [
       "(30.89605846246084, 52.03335741315174, 64.96808006922026)"
      ]
     },
     "execution_count": 7,
     "metadata": {},
     "output_type": "execute_result"
    }
   ],
   "source": [
    "from Modelling_Functions_SH_DNN import mmo, load_data_SH_DNN, model_SH_DNN, calculate_metrics_SH_DNN, rolling_walk_forward_validation_SH_DNN, fit_multitarget_model_SH_DNN, generate_train_and_test_dataframes_SH_DNN, calculate_metrics_SH_DNN\n",
    "\n",
    "# Ignore TensorFlow warnings\n",
    "# warnings.filterwarnings(\"ignore\", category=UserWarning, message=\".*TensorFlow.*\")\n",
    "warnings.filterwarnings(\"ignore\", category=UserWarning, message=\".*5 out of the last 5 calls.*tf.function retracing.*\")\n",
    "\n",
    "# Load data from CSV file\n",
    "file_path = \"/home/ciaran/Documents/BM_data.csv\"\n",
    "dat = load_data_SH_DNN(file_path)\n",
    "\n",
    "# Perform rolling walk-forward validation using the specified model\n",
    "rolling_walk_forward_validation_SH_DNN(\n",
    "    model=mmo,  # Model to be used for prediction\n",
    "    data=dat,  # DataFrame containing the data\n",
    "    start_time='6/1/2020 00:00',  # Start time for validation\n",
    "    end_time='6/2/2020 00:00',  # End time for validation\n",
    "    targets=dat.iloc[:,0:16].columns.values.tolist(),  # List of target column names\n",
    "    training_days=-30,  # Number of days for training data\n",
    "    path=\"/home/ciaran/Documents/SH_test\"  # Path to save results\n",
    ")\n",
    "# Load the CSV file into a DataFrame\n",
    "results = pd.read_csv(\"/home/ciaran/Documents/SH_test.csv\")\n",
    "# Call the calculate_metrics_SH_DNN function\n",
    "calculate_metrics_SH_DNN(results)"
   ]
  },
  {
   "cell_type": "markdown",
   "id": "1a3b570c",
   "metadata": {},
   "source": [
    "Multi-Headed RNN/DNN"
   ]
  },
  {
   "cell_type": "code",
   "execution_count": 8,
   "id": "42d331bc",
   "metadata": {},
   "outputs": [
    {
     "name": "stdout",
     "output_type": "stream",
     "text": [
      "train_start_time: 2019-11-04 00:00:00, train_end_time: 2020-06-01 00:00:00, test_start_time: 2020-06-01 08:00:00, test_end_time: 2020-06-01 08:30:00\n",
      "1/1 [==============================] - 0s 214ms/step\n",
      "train_start_time: 2019-11-04 08:00:00, train_end_time: 2020-06-01 08:00:00, test_start_time: 2020-06-01 16:00:00, test_end_time: 2020-06-01 16:30:00\n",
      "WARNING:tensorflow:5 out of the last 5 calls to <function Model.make_predict_function.<locals>.predict_function at 0x7f3414c12dc0> triggered tf.function retracing. Tracing is expensive and the excessive number of tracings could be due to (1) creating @tf.function repeatedly in a loop, (2) passing tensors with different shapes, (3) passing Python objects instead of tensors. For (1), please define your @tf.function outside of the loop. For (2), @tf.function has reduce_retracing=True option that can avoid unnecessary retracing. For (3), please refer to https://www.tensorflow.org/guide/function#controlling_retracing and https://www.tensorflow.org/api_docs/python/tf/function for  more details.\n",
      "1/1 [==============================] - 0s 142ms/step\n",
      "train_start_time: 2019-11-04 16:00:00, train_end_time: 2020-06-01 16:00:00, test_start_time: 2020-06-02 00:00:00, test_end_time: 2020-06-02 00:30:00\n",
      "WARNING:tensorflow:6 out of the last 6 calls to <function Model.make_predict_function.<locals>.predict_function at 0x7f3417fb93a0> triggered tf.function retracing. Tracing is expensive and the excessive number of tracings could be due to (1) creating @tf.function repeatedly in a loop, (2) passing tensors with different shapes, (3) passing Python objects instead of tensors. For (1), please define your @tf.function outside of the loop. For (2), @tf.function has reduce_retracing=True option that can avoid unnecessary retracing. For (3), please refer to https://www.tensorflow.org/guide/function#controlling_retracing and https://www.tensorflow.org/api_docs/python/tf/function for  more details.\n",
      "1/1 [==============================] - 0s 211ms/step\n",
      "Mean Absolute Error (MAE): 47.63072858129939\n",
      "Root Mean Squared Error (RMSE): 67.37915742780292\n",
      "Symmetric Mean Absolute Percentage Error (sMAPE): 192.55409566821814\n"
     ]
    },
    {
     "data": {
      "text/plain": [
       "(47.63072858129939, 67.37915742780292, 192.55409566821814)"
      ]
     },
     "execution_count": 8,
     "metadata": {},
     "output_type": "execute_result"
    }
   ],
   "source": [
    "from Modelling_Functions_MH_DNN import load_data_MH_DNN, calculate_metrics_MH_DNN, mmo, generate_train_and_test_dataframes_MH_RNN_DNN, fit_multitarget_model_MH_RNN_DNN, rolling_walk_forward_validation_MH_RNN_DNN\n",
    "\n",
    "# Load data from CSV file\n",
    "file_path = \"/home/ciaran/Documents/BM_data.csv\"\n",
    "dat = load_data_MH_DNN(file_path)\n",
    "\n",
    "# Perform rolling walk-forward validation\n",
    "rolling_walk_forward_validation_MH_RNN_DNN(model=mmo, data=dat, start_time='6/1/2020 00:00', end_time='6/2/2020  00:00',       \n",
    "                                targets=dat.iloc[:,0:16].columns.values.tolist(), training_days=-210,\n",
    "                                path=\"/home/ciaran/Documents/MH_test\")\n",
    "\n",
    "# Load the CSV file into a DataFrame\n",
    "results = pd.read_csv(\"/home/ciaran/Documents/MH_test.csv\")\n",
    "# Call the calculate_metrics_SH_DNN function\n",
    "calculate_metrics_MH_DNN(results)"
   ]
  },
  {
   "cell_type": "code",
   "execution_count": null,
   "id": "6f1c9d4e",
   "metadata": {},
   "outputs": [],
   "source": []
  },
  {
   "cell_type": "code",
   "execution_count": null,
   "id": "883a1c7e",
   "metadata": {},
   "outputs": [],
   "source": []
  },
  {
   "cell_type": "code",
   "execution_count": null,
   "id": "055a67ba",
   "metadata": {},
   "outputs": [],
   "source": []
  },
  {
   "cell_type": "code",
   "execution_count": null,
   "id": "ea2beef1",
   "metadata": {},
   "outputs": [],
   "source": []
  },
  {
   "cell_type": "code",
   "execution_count": null,
   "id": "9dc1e90c",
   "metadata": {},
   "outputs": [],
   "source": []
  },
  {
   "cell_type": "code",
   "execution_count": null,
   "id": "b64800f9",
   "metadata": {},
   "outputs": [],
   "source": []
  },
  {
   "cell_type": "code",
   "execution_count": null,
   "id": "5946e3bb",
   "metadata": {},
   "outputs": [],
   "source": []
  }
 ],
 "metadata": {
  "kernelspec": {
   "display_name": "Python 3 (ipykernel)",
   "language": "python",
   "name": "python3"
  },
  "language_info": {
   "codemirror_mode": {
    "name": "ipython",
    "version": 3
   },
   "file_extension": ".py",
   "mimetype": "text/x-python",
   "name": "python",
   "nbconvert_exporter": "python",
   "pygments_lexer": "ipython3",
   "version": "3.9.12"
  }
 },
 "nbformat": 4,
 "nbformat_minor": 5
}
